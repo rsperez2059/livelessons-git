{
 "cells": [
  {
   "cell_type": "markdown",
   "metadata": {},
   "source": [
    "# Git Notes"
   ]
  },
  {
   "cell_type": "markdown",
   "metadata": {},
   "source": [
    "## Working with git locally\n",
    "\n",
    "- 'git init': initialize a current folder as the git repostiory\n",
    "- 'git clone <URL>': brings the git repo from <URL> to current folder\n",
    "- 'git status': tells is wjat we meed to know about our repository\n",
    "\n",
    "- 'git add <FILE>': adds <FILE> to the staging area\n",
    "- 'git commit': open a text eidtor to write commit message\n",
    "    - 'git commit -m \"MESSAGE\"': wrotes a MESSAGE as a commiet without a text editor\n",
    "\n",
    "- 'git log': shows the log (history) of our commits\n",
    "    - 'git log --oneline': shows the shorter oneline commit\n",
    "\n",
    "- 'git diff': compare current unticmmeted state with teh last known git state\n",
    "    - 'git diff --staged': runs git diff between the starging area and the last known state\n",
    "- 'git diff HEAD~<NUMBER>': compares the HEAD with the commit <NUMBER> ago (relative)\n",
    "- 'git diff <HASH>': compares the HEAD with the commit <HASH>\n",
    "\n",
    "- 'git restore --source <HASH OR HEAD~> <FILE>': restore file to <HASH OR HEAD~>\n",
    "    - 'git checkout <HASH OR HEAD~> <FILE>' restore file to <HASH OR HEAD>\n",
    "        - 'git checkout <HASH OR HEAD~>': if you forget the file, you end  up in the detached head state\n",
    "        - 'git checkout main': go back to the main\n",
    "        - 'get switch main': go back to main\n"
   ]
  },
  {
   "cell_type": "markdown",
   "metadata": {},
   "source": [
    "## Working with remotes \n",
    "    \n",
    "- 'git remote add <NAME> <URL>': adds the <URL> as a remote wth the same name <NAME>\n",
    "    - <NAME> is by convention called 'origin'\n",
    "- 'git remote rm <NAME>': Removes the remote called <NAME>\n",
    "- 'git remote -v': look at all the remotes you have\n",
    "- 'git push <WHERE> <WHAT>': pushes the <WHAT> branch to the <WHERE>\n",
    "    - 'git push origin main\n",
    "- 'git pull <WHERE> <WHAT>': pulls the <WHAT> branch in <WHERE> to orig local computer\n"
   ]
  },
  {
   "cell_type": "markdown",
   "metadata": {},
   "source": [
    "## Branches\n",
    "\n",
    "- 'git branch <NAME>': create branch <NAME> where you are (HEAD)\n",
    "- 'git switch <NAME>': move to the branch <NAME>\n",
    "    - 'git checkoug <NAME>': alod moves to the branch <NAME>\n",
    "- 'git swich -c <NAME>': create and move to the branch <NAME> in 1 command\n",
    "    - \"git checkout -b <NAME>': also create and move to the branch <NAME> in 1 command\n",
    "\n",
    "- 'git merge <BRANCH>': merge <BRANCH> into your current branch\n",
    "- 'git rebase': command to change the history of a commit\n",
    "    - Commits from 'git merge' can be autmatically combined\n",
    "- 'git rebase <BRANCH>': incoprpate changes from <BRANCH> into current branch\n",
    "    - 'git status': is your friend\n",
    "    - 'git add <FILE>': to mark conflict resolutions\n",
    "    - 'git rebase --continue': move to next commit in rebase\n",
    "    - 'git rebase --abort': undo git rebase steps\n",
    "- 'git rebase -i <COMMIT>' 'HEAD~' or <HASH> of commit to go into interactive rebase\n",
    "    - you can make multiple commit changes here, e.g., 'squash'/'s'\n",
    "    - 'git rebase - <HASH>^': use ^ to include that commit in intractive rebase\n",
    "- 'git stash' or 'git commit': to save work before moving branches\n",
    "    - 'stash' is temporary\n",
    "    - 'git stash list': see your stashed commits\n",
    "    - 'git stash apply': apply your last stashed commit\n",
    "    - 'git stash clear': clear up your stashes\n",
    "\n",
    "A 'merge' on the remote is called a \"pull request\" or a \"merge request\"\n",
    "    - 'git push <WHERE> <WHAT>'\n",
    "    - To update a PR, we make the changes to the branch locally and re-'push'\n",
    "\n",
    "A merge conflict can happen afer PR is issued.\n",
    "- 'git fetch': update your git log without making any changes to your files\n",
    "    - 'git fetch --prune': update you log and also remove deleted remote branches\n",
    "- 'git push -f <WHAT> <WHERE>': forces a push to the remote <WHERE> the branch <WHAT>\n",
    "    - 'git push --force with lease <WHERE> <WHAT>': more mindful of collaborators"
   ]
  },
  {
   "cell_type": "markdown",
   "metadata": {},
   "source": [
    "## Collaborators\n",
    "\n",
    "- Second person to push, needs to sync the history\n",
    "- Add collaborators in repository setting\n",
    "- Add collaborators will then 'git clone <URL>' to get repo in their computers\n",
    "- Each person's branch changes are independent\n",
    "- Feature branches won't show confilcts until one of them is merged first\n",
    "- In the setting you can setup branch protectionrules to prevent direct chagnes\n"
   ]
  },
  {
   "cell_type": "markdown",
   "metadata": {},
   "source": [
    "## Git Workflows\n",
    "\n",
    "- Adding a collaborator\n",
    "- Brancing workflow\n",
    "- Git Flow: a special type of branching workflow\n",
    "- Forking is commonly used in open source projects\n",
    "    - Fork: copy the original remote repo into your account\n",
    "    - 'origin': is your own remote copy\n",
    "    - 'upstream': is the original copy\n",
    "    - Follow branching workflow\n",
    "    "
   ]
  }
 ],
 "metadata": {
  "language_info": {
   "name": "python"
  },
  "orig_nbformat": 4
 },
 "nbformat": 4,
 "nbformat_minor": 2
}
